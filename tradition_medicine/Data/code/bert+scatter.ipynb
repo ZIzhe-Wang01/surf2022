{
 "cells": [
  {
   "cell_type": "code",
   "execution_count": 211,
   "id": "3701969f",
   "metadata": {},
   "outputs": [
    {
     "name": "stderr",
     "output_type": "stream",
     "text": [
      "C:\\Users\\86199\\AppData\\Local\\Temp/ipykernel_17660/2736739851.py:11: DeprecationWarning: Call to deprecated function get_sheet_by_name (Use wb[sheetname]).\n",
      "  table = workbook.get_sheet_by_name('Sheet1')\n"
     ]
    }
   ],
   "source": [
    "from sentence_transformers import SentenceTransformer\n",
    "from sklearn.manifold import TSNE\n",
    "from openpyxl import load_workbook\n",
    "import numpy as np\n",
    "from nltk.tokenize import sent_tokenize\n",
    "import torch.nn.functional as F\n",
    "import torch\n",
    "\n",
    "model = SentenceTransformer('bert-base-nli-mean-tokens')\n",
    "workbook = load_workbook('D:/surf/tradition_medicine/Data/new_sheet.xlsx')\n",
    "table = workbook.get_sheet_by_name('Sheet1')\n",
    "\n",
    "all_embeddings = []\n",
    "article_sentences = {}\n",
    "sentence_embeddings = {}\n",
    "category_embeddings = []\n",
    "categories = ['humanist', 'responsibility', 'morality', 'economic', 'conflict', 'leadership', 'factual']\n",
    "sheet = workbook.active\n",
    "\n",
    "for article in range(2, 254):\n",
    "    content = table.cell(row= article, column= 27).value\n",
    "    content_sentences = sent_tokenize(str(content))\n",
    "    #for sentence in content_sentences:\n",
    "        #print(sentence + '//////')\n",
    "    article_sentences[article-1] = content_sentences\n",
    "    #print('******************************')\n",
    "#print(article_sentences)\n",
    "\n",
    "\n",
    "#Sentences are encoded by calling model.encode()\n",
    "#embeddings = model.encode(article_sentences[125])\n",
    "\n",
    "\n",
    "#Print the embeddings\n",
    "for article1 in range(1, 253):\n",
    "    embeddings = model.encode(article_sentences[article1])\n",
    "    sentence_embeddings[article1] = np.array([0] * 768)\n",
    "    for sentence, embedding in zip(article_sentences[article1], embeddings):\n",
    "        #print(\"Sentence:\", sentence)\n",
    "        #print(\"Embedding:\", embedding)\n",
    "        emb = np.array(embedding)\n",
    "        sentence_embeddings[article1] = list(sentence_embeddings[article1] + emb)\n",
    "        #print(\"\")\n",
    "    sentence_embeddings[article1] = np.array(sentence_embeddings[article1]).ravel()\n",
    "    all_embeddings.append(sentence_embeddings[article1])\n",
    "    #print(np.array(sentence_embeddings[article1]).ravel().shape)\n",
    "\n",
    "#print(all_embeddings[16])\n",
    "#print(len(all_embeddings))\n",
    "#print(type(all_embeddings[1]))\n",
    "#print(type(sentence_embeddings[1]))\n",
    "\n",
    "cate_embeddings = model.encode(categories)\n",
    "for sentence, embedding in zip(categories, cate_embeddings):\n",
    "    #print(\"Sentence:\", sentence)\n",
    "    #print(\"Embedding:\", embedding)\n",
    "    category_embeddings.append(embedding)\n",
    "\n",
    "cate_matrix = np.mat(category_embeddings)\n",
    "#print(cate_matrix.shape)\n",
    "#print(cate_matrix)\n",
    "\n"
   ]
  },
  {
   "cell_type": "code",
   "execution_count": 212,
   "id": "085379a3",
   "metadata": {},
   "outputs": [
    {
     "name": "stdout",
     "output_type": "stream",
     "text": [
      "['conflict', 'humanist', 'morality', 'humanist', 'humanist', 'economic', 'morality', 'conflict', 'morality', 'conflict', 'conflict', 'humanist', 'humanist', 'humanist', 'humanist', 'humanist', 'humanist', 'humanist', 'humanist', 'conflict', 'conflict', 'morality', 'responsibility', 'economic', 'morality', 'humanist', 'conflict', 'leadership', 'morality', 'humanist', 'responsibility', 'leadership', 'humanist', 'humanist', 'leadership', 'conflict', 'factual', 'conflict', 'humanist', 'humanist', 'morality', 'humanist', 'humanist', 'morality', 'morality', 'humanist', 'conflict', 'humanist', 'leadership', 'humanist', 'humanist', 'humanist', 'economic', 'conflict', 'humanist', 'morality', 'economic', 'humanist', 'morality', 'economic', 'morality', 'leadership', 'leadership', 'morality', 'economic', '', 'humanist', 'responsibility', 'responsibility', 'humanist', 'humanist', 'humanist', 'leadership', 'leadership', 'humanist', 'leadership', 'morality', 'economic', 'conflict', 'humanist', 'responsibility', 'conflict', 'factual', 'conflict', 'conflict', 'humanist', 'humanist', 'leadership', 'conflict', 'leadership', 'humanist', 'morality', 'conflict', 'humanist', 'conflict', 'leadership', 'morality', 'responsibility', 'responsibility', 'leadership', 'conflict', 'economic', 'humanist', 'conflict', 'morality', 'morality', 'leadership', 'responsibility', 'humanist', 'conflict', 'responsibility', 'leadership', 'economic', 'conflict', 'humanist', 'humanist', 'humanist', 'responsibility', 'leadership', 'economic', 'morality', 'humanist', 'humanist', 'conflict', 'conflict', 'morality', 'factual', 'economic', 'leadership', 'conflict', 'economic', 'humanist', 'humanist', 'conflict', 'morality', 'conflict', 'responsibility', 'conflict', 'responsibility', 'humanist', 'economic', 'economic', 'factual', 'conflict', 'humanist', 'responsibility', 'humanist', 'conflict', 'humanist', 'humanist', 'humanist', 'factual', 'humanist', 'economic', 'humanist', 'morality', 'economic', 'leadership', 'morality', 'morality', 'conflict', 'humanist', 'morality', 'humanist', 'leadership', 'leadership', 'leadership', 'humanist', 'leadership', 'morality', 'conflict', 'conflict', 'humanist', 'humanist', 'humanist', 'leadership', 'leadership', 'economic', 'factual', 'economic', 'factual', 'factual', 'leadership', 'humanist', 'economic', 'factual', 'economic', 'morality', 'humanist', 'humanist', 'conflict', 'humanist', 'conflict', 'economic', 'conflict', 'morality', 'responsibility', 'morality', 'humanist', 'conflict', 'humanist', 'conflict', 'humanist', 'responsibility', 'conflict', 'humanist', 'morality', 'humanist', 'leadership', 'conflict', 'morality', 'conflict', 'humanist', 'leadership', 'humanist', 'responsibility', 'factual', 'conflict', 'humanist', 'humanist', 'humanist', 'conflict', 'humanist', 'humanist', 'humanist', 'economic', 'morality', 'factual', 'morality', 'conflict', 'leadership', 'leadership', 'morality', 'morality', 'humanist', 'humanist', 'morality', 'responsibility', 'factual', 'morality', 'conflict', 'humanist', 'morality', 'economic', 'humanist', 'humanist', 'humanist', 'humanist', 'economic', 'humanist', 'economic', 'conflict']\n",
      "252\n"
     ]
    }
   ],
   "source": [
    "label = []\n",
    "for article_res in range(0, 252):\n",
    "    max = 0\n",
    "    category = ''\n",
    "    article_tensor = torch.tensor(all_embeddings[article_res], dtype= torch.float)\n",
    "    for x in range(0, 7):\n",
    "        #print(x)\n",
    "        cate_tensor = torch.tensor(cate_matrix[x], dtype= torch.float)\n",
    "        #article_tensor = torch.tensor(all_embeddings[1], dtype= torch.float)\n",
    "        #print(cate_tensor)\n",
    "        res = F.cosine_similarity(cate_tensor, article_tensor, dim= 1)\n",
    "        if res > max:\n",
    "            max = res\n",
    "            category = categories[x]\n",
    "    label.append(category)\n",
    "\n",
    "print(label)\n",
    "print(len(label))\n"
   ]
  },
  {
   "cell_type": "code",
   "execution_count": 213,
   "id": "36dac0d9",
   "metadata": {},
   "outputs": [
    {
     "name": "stdout",
     "output_type": "stream",
     "text": [
      "<class 'numpy.ndarray'>\n",
      "(252, 768)\n",
      "['conflict' 'humanist' 'morality' 'humanist' 'humanist' 'economic'\n",
      " 'morality' 'conflict' 'morality' 'conflict' 'conflict' 'humanist'\n",
      " 'humanist' 'humanist' 'humanist' 'humanist' 'humanist' 'humanist'\n",
      " 'humanist' 'conflict' 'conflict' 'morality' 'responsibility' 'economic'\n",
      " 'morality' 'humanist' 'conflict' 'leadership' 'morality' 'humanist'\n",
      " 'responsibility' 'leadership' 'humanist' 'humanist' 'leadership'\n",
      " 'conflict' 'factual' 'conflict' 'humanist' 'humanist' 'morality'\n",
      " 'humanist' 'humanist' 'morality' 'morality' 'humanist' 'conflict'\n",
      " 'humanist' 'leadership' 'humanist' 'humanist' 'humanist' 'economic'\n",
      " 'conflict' 'humanist' 'morality' 'economic' 'humanist' 'morality'\n",
      " 'economic' 'morality' 'leadership' 'leadership' 'morality' 'economic' ''\n",
      " 'humanist' 'responsibility' 'responsibility' 'humanist' 'humanist'\n",
      " 'humanist' 'leadership' 'leadership' 'humanist' 'leadership' 'morality'\n",
      " 'economic' 'conflict' 'humanist' 'responsibility' 'conflict' 'factual'\n",
      " 'conflict' 'conflict' 'humanist' 'humanist' 'leadership' 'conflict'\n",
      " 'leadership' 'humanist' 'morality' 'conflict' 'humanist' 'conflict'\n",
      " 'leadership' 'morality' 'responsibility' 'responsibility' 'leadership'\n",
      " 'conflict' 'economic' 'humanist' 'conflict' 'morality' 'morality'\n",
      " 'leadership' 'responsibility' 'humanist' 'conflict' 'responsibility'\n",
      " 'leadership' 'economic' 'conflict' 'humanist' 'humanist' 'humanist'\n",
      " 'responsibility' 'leadership' 'economic' 'morality' 'humanist' 'humanist'\n",
      " 'conflict' 'conflict' 'morality' 'factual' 'economic' 'leadership'\n",
      " 'conflict' 'economic' 'humanist' 'humanist' 'conflict' 'morality'\n",
      " 'conflict' 'responsibility' 'conflict' 'responsibility' 'humanist'\n",
      " 'economic' 'economic' 'factual' 'conflict' 'humanist' 'responsibility'\n",
      " 'humanist' 'conflict' 'humanist' 'humanist' 'humanist' 'factual'\n",
      " 'humanist' 'economic' 'humanist' 'morality' 'economic' 'leadership'\n",
      " 'morality' 'morality' 'conflict' 'humanist' 'morality' 'humanist'\n",
      " 'leadership' 'leadership' 'leadership' 'humanist' 'leadership' 'morality'\n",
      " 'conflict' 'conflict' 'humanist' 'humanist' 'humanist' 'leadership'\n",
      " 'leadership' 'economic' 'factual' 'economic' 'factual' 'factual'\n",
      " 'leadership' 'humanist' 'economic' 'factual' 'economic' 'morality'\n",
      " 'humanist' 'humanist' 'conflict' 'humanist' 'conflict' 'economic'\n",
      " 'conflict' 'morality' 'responsibility' 'morality' 'humanist' 'conflict'\n",
      " 'humanist' 'conflict' 'humanist' 'responsibility' 'conflict' 'humanist'\n",
      " 'morality' 'humanist' 'leadership' 'conflict' 'morality' 'conflict'\n",
      " 'humanist' 'leadership' 'humanist' 'responsibility' 'factual' 'conflict'\n",
      " 'humanist' 'humanist' 'humanist' 'conflict' 'humanist' 'humanist'\n",
      " 'humanist' 'economic' 'morality' 'factual' 'morality' 'conflict'\n",
      " 'leadership' 'leadership' 'morality' 'morality' 'humanist' 'humanist'\n",
      " 'morality' 'responsibility' 'factual' 'morality' 'conflict' 'humanist'\n",
      " 'morality' 'economic' 'humanist' 'humanist' 'humanist' 'humanist'\n",
      " 'economic' 'humanist' 'economic' 'conflict']\n",
      "(252,)\n"
     ]
    },
    {
     "data": {
      "image/png": "[encoded data removed]",
      "text/plain": [
       "<Figure size 720x432 with 1 Axes>"
      ]
     },
     "metadata": {
      "needs_background": "light"
     },
     "output_type": "display_data"
    }
   ],
   "source": [
    "#词向量\n",
    "\n",
    "data = np.array(all_embeddings)\n",
    "print(type(data))\n",
    "print(data.shape)\n",
    "\n",
    "# 标签      \n",
    "target = np.array(label)\n",
    "print(target)\n",
    "print(target.shape)\n",
    "target_names =np.array(['HumanInt', 'Responsi', 'Morality', 'EcoCons', 'Conflict', 'Factual', 'Leadersh'])\n",
    "\n",
    "# 将词向量转化为2维向量\n",
    "fea = TSNE(n_components=2,random_state=33).fit_transform(data)\n",
    "#fea = PCA(n_components=2).fit_transform(all_embeddings)\n",
    "#print(fea)\n",
    "\n",
    "# 画散点图\n",
    "plt.figure(figsize=(10, 6))\n",
    "colors = 'red','yellow','green','blue','orangered','steelblue','slateblue'\n",
    "target_id = range(len(target_names))\n",
    "#print(target_id)\n",
    "for id, c, label in zip(target_ids, colors, target_names):\n",
    "    plt.scatter(fea[target==categories[id], 0], fea[target==categories[id], 1], c = c, label = label)\n",
    "\n",
    "plt.legend()\n",
    "plt.show()\n"
   ]
  }
 ],
 "metadata": {
  "kernelspec": {
   "display_name": "Python 3 (ipykernel)",
   "language": "python",
   "name": "python3"
  },
  "language_info": {
   "codemirror_mode": {
    "name": "ipython",
    "version": 3
   },
   "file_extension": ".py",
   "mimetype": "text/x-python",
   "name": "python",
   "nbconvert_exporter": "python",
   "pygments_lexer": "ipython3",
   "version": "3.9.7"
  }
 },
 "nbformat": 4,
 "nbformat_minor": 5
}
